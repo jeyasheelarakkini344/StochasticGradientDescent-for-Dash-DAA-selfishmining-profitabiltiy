{
  "nbformat": 4,
  "nbformat_minor": 0,
  "metadata": {
    "colab": {
      "name": "Untitled12.ipynb",
      "provenance": []
    },
    "kernelspec": {
      "name": "python3",
      "display_name": "Python 3"
    }
  },
  "cells": [
    {
      "cell_type": "code",
      "metadata": {
        "colab": {
          "base_uri": "https://localhost:8080/",
          "height": 211
        },
        "id": "LPiuhI8qCS4k",
        "outputId": "80d1781d-3e91-4733-fcaf-1ad2c91392bc"
      },
      "source": [
        "import pandas as pd\r\n",
        "data1=pd.read_csv(\"dashrevised111.csv\")\r\n",
        "data1.head()\r\n",
        "\r\n"
      ],
      "execution_count": 50,
      "outputs": [
        {
          "output_type": "execute_result",
          "data": {
            "text/html": [
              "<div>\n",
              "<style scoped>\n",
              "    .dataframe tbody tr th:only-of-type {\n",
              "        vertical-align: middle;\n",
              "    }\n",
              "\n",
              "    .dataframe tbody tr th {\n",
              "        vertical-align: top;\n",
              "    }\n",
              "\n",
              "    .dataframe thead th {\n",
              "        text-align: right;\n",
              "    }\n",
              "</style>\n",
              "<table border=\"1\" class=\"dataframe\">\n",
              "  <thead>\n",
              "    <tr style=\"text-align: right;\">\n",
              "      <th></th>\n",
              "      <th>npastblocks</th>\n",
              "      <th>numsims</th>\n",
              "      <th>alpha</th>\n",
              "      <th>gamma</th>\n",
              "      <th>timewarp</th>\n",
              "      <th>numblocks</th>\n",
              "      <th>blocktime</th>\n",
              "      <th>winratio</th>\n",
              "      <th>adjustedwinning</th>\n",
              "      <th>selfishsecondsperblock</th>\n",
              "      <th>adjustedrelativegain</th>\n",
              "      <th>gainstddev</th>\n",
              "      <th>adjustedgainsteddev</th>\n",
              "      <th>secondsperblockstddev</th>\n",
              "      <th>finalheight</th>\n",
              "      <th>numreorgs</th>\n",
              "      <th>smwinreorgs</th>\n",
              "      <th>didbetternaive</th>\n",
              "      <th>didbettertimeadjust</th>\n",
              "      <th>relativegain</th>\n",
              "    </tr>\n",
              "  </thead>\n",
              "  <tbody>\n",
              "    <tr>\n",
              "      <th>0</th>\n",
              "      <td>24</td>\n",
              "      <td>30</td>\n",
              "      <td>0.06</td>\n",
              "      <td>0.00</td>\n",
              "      <td>0</td>\n",
              "      <td>10000</td>\n",
              "      <td>150</td>\n",
              "      <td>0.013402</td>\n",
              "      <td>0.012750</td>\n",
              "      <td>11896.763150</td>\n",
              "      <td>-0.787508</td>\n",
              "      <td>0</td>\n",
              "      <td>0</td>\n",
              "      <td>0</td>\n",
              "      <td>11000.03333</td>\n",
              "      <td>536.3</td>\n",
              "      <td>0.059112</td>\n",
              "      <td>0.0</td>\n",
              "      <td>0.0</td>\n",
              "      <td>-0.776634</td>\n",
              "    </tr>\n",
              "    <tr>\n",
              "      <th>1</th>\n",
              "      <td>24</td>\n",
              "      <td>30</td>\n",
              "      <td>0.06</td>\n",
              "      <td>0.00</td>\n",
              "      <td>3600</td>\n",
              "      <td>10000</td>\n",
              "      <td>150</td>\n",
              "      <td>0.024531</td>\n",
              "      <td>0.023482</td>\n",
              "      <td>6435.077768</td>\n",
              "      <td>-0.608640</td>\n",
              "      <td>0</td>\n",
              "      <td>0</td>\n",
              "      <td>0</td>\n",
              "      <td>11000.03333</td>\n",
              "      <td>505.4</td>\n",
              "      <td>0.108957</td>\n",
              "      <td>0.0</td>\n",
              "      <td>0.0</td>\n",
              "      <td>-0.591154</td>\n",
              "    </tr>\n",
              "    <tr>\n",
              "      <th>2</th>\n",
              "      <td>24</td>\n",
              "      <td>30</td>\n",
              "      <td>0.06</td>\n",
              "      <td>0.00</td>\n",
              "      <td>7200</td>\n",
              "      <td>10000</td>\n",
              "      <td>150</td>\n",
              "      <td>0.034366</td>\n",
              "      <td>0.034033</td>\n",
              "      <td>4447.266823</td>\n",
              "      <td>-0.432776</td>\n",
              "      <td>0</td>\n",
              "      <td>0</td>\n",
              "      <td>0</td>\n",
              "      <td>11000.03333</td>\n",
              "      <td>472.3</td>\n",
              "      <td>0.156436</td>\n",
              "      <td>0.0</td>\n",
              "      <td>0.0</td>\n",
              "      <td>-0.427226</td>\n",
              "    </tr>\n",
              "    <tr>\n",
              "      <th>3</th>\n",
              "      <td>24</td>\n",
              "      <td>30</td>\n",
              "      <td>0.06</td>\n",
              "      <td>0.05</td>\n",
              "      <td>0</td>\n",
              "      <td>10000</td>\n",
              "      <td>150</td>\n",
              "      <td>0.015778</td>\n",
              "      <td>0.015008</td>\n",
              "      <td>10148.103380</td>\n",
              "      <td>-0.749869</td>\n",
              "      <td>0</td>\n",
              "      <td>0</td>\n",
              "      <td>0</td>\n",
              "      <td>11000.00000</td>\n",
              "      <td>531.1</td>\n",
              "      <td>0.059508</td>\n",
              "      <td>0.0</td>\n",
              "      <td>0.0</td>\n",
              "      <td>-0.737026</td>\n",
              "    </tr>\n",
              "    <tr>\n",
              "      <th>4</th>\n",
              "      <td>24</td>\n",
              "      <td>30</td>\n",
              "      <td>0.06</td>\n",
              "      <td>0.05</td>\n",
              "      <td>3600</td>\n",
              "      <td>10000</td>\n",
              "      <td>150</td>\n",
              "      <td>0.027010</td>\n",
              "      <td>0.025877</td>\n",
              "      <td>5825.057423</td>\n",
              "      <td>-0.568709</td>\n",
              "      <td>0</td>\n",
              "      <td>0</td>\n",
              "      <td>0</td>\n",
              "      <td>11000.06667</td>\n",
              "      <td>503.7</td>\n",
              "      <td>0.109000</td>\n",
              "      <td>0.0</td>\n",
              "      <td>0.0</td>\n",
              "      <td>-0.549826</td>\n",
              "    </tr>\n",
              "  </tbody>\n",
              "</table>\n",
              "</div>"
            ],
            "text/plain": [
              "   npastblocks  numsims  ...  didbettertimeadjust  relativegain\n",
              "0           24       30  ...                  0.0     -0.776634\n",
              "1           24       30  ...                  0.0     -0.591154\n",
              "2           24       30  ...                  0.0     -0.427226\n",
              "3           24       30  ...                  0.0     -0.737026\n",
              "4           24       30  ...                  0.0     -0.549826\n",
              "\n",
              "[5 rows x 20 columns]"
            ]
          },
          "metadata": {
            "tags": []
          },
          "execution_count": 50
        }
      ]
    },
    {
      "cell_type": "code",
      "metadata": {
        "colab": {
          "base_uri": "https://localhost:8080/"
        },
        "id": "IIa0MsbFEUpS",
        "outputId": "7c672fa2-c414-4b26-cb6d-49019b1545a6"
      },
      "source": [
        "from sklearn import preprocessing\r\n",
        "sx = preprocessing.MinMaxScaler()\r\n",
        "sy = preprocessing.MinMaxScaler()\r\n",
        "\r\n",
        "scaled_X = sx.fit_transform(data1.drop('relativegain',axis='columns'))\r\n",
        "scaled_y = sy.fit_transform(data1['relativegain'].values.reshape(d3.shape[0],1))\r\n",
        "\r\n",
        "scaled_X"
      ],
      "execution_count": 60,
      "outputs": [
        {
          "output_type": "execute_result",
          "data": {
            "text/plain": [
              "array([[0.        , 0.        , 0.        , ..., 0.00712909, 0.        ,\n",
              "        0.        ],\n",
              "       [0.        , 0.        , 0.        , ..., 0.08143568, 0.        ,\n",
              "        0.        ],\n",
              "       [0.        , 0.        , 0.        , ..., 0.15221546, 0.        ,\n",
              "        0.        ],\n",
              "       ...,\n",
              "       [0.06024096, 0.        , 1.        , ..., 0.63156367, 1.        ,\n",
              "        1.        ],\n",
              "       [0.06024096, 0.        , 1.        , ..., 0.699892  , 1.        ,\n",
              "        1.        ],\n",
              "       [0.06024096, 0.        , 1.        , ..., 0.78119513, 1.        ,\n",
              "        1.        ]])"
            ]
          },
          "metadata": {
            "tags": []
          },
          "execution_count": 60
        }
      ]
    },
    {
      "cell_type": "code",
      "metadata": {
        "colab": {
          "base_uri": "https://localhost:8080/"
        },
        "id": "MnzeiiHCEudJ",
        "outputId": "f936e1e1-696e-4ec8-dd91-fbc757741065"
      },
      "source": [
        "scaled_y"
      ],
      "execution_count": 61,
      "outputs": [
        {
          "output_type": "execute_result",
          "data": {
            "text/plain": [
              "array([[0.00315664],\n",
              "       [0.11179197],\n",
              "       [0.20780369],\n",
              "       ...,\n",
              "       [0.9628732 ],\n",
              "       [0.94094515],\n",
              "       [0.96158514]])"
            ]
          },
          "metadata": {
            "tags": []
          },
          "execution_count": 61
        }
      ]
    },
    {
      "cell_type": "code",
      "metadata": {
        "colab": {
          "base_uri": "https://localhost:8080/"
        },
        "id": "MHAw42V5E0tB",
        "outputId": "eb1f0f10-d86e-461e-a39f-4ae6246236a9"
      },
      "source": [
        "scaled_y.reshape(7524,)"
      ],
      "execution_count": 62,
      "outputs": [
        {
          "output_type": "execute_result",
          "data": {
            "text/plain": [
              "array([0.00315664, 0.11179197, 0.20780369, ..., 0.9628732 , 0.94094515,\n",
              "       0.96158514])"
            ]
          },
          "metadata": {
            "tags": []
          },
          "execution_count": 62
        }
      ]
    },
    {
      "cell_type": "code",
      "metadata": {
        "id": "GAHZxBW0FEQq"
      },
      "source": [
        "import numpy as np\r\n",
        "from matplotlib import pyplot as plt\r\n",
        "%matplotlib inline\r\n",
        "def batch_gradient_descent(X, y_true, epochs, learning_rate = 0.01):\r\n",
        "\r\n",
        "    number_of_features = X.shape[1]\r\n",
        "    # numpy array with 1 row and columns equal to number of features. In \r\n",
        "    # our case number_of_features = 2 (area, bedroom)\r\n",
        "    w = np.ones(shape=(number_of_features)) \r\n",
        "    b = 0\r\n",
        "    total_samples = X.shape[0] # number of rows in X\r\n",
        "    \r\n",
        "    cost_list = []\r\n",
        "    epoch_list = []\r\n",
        "    \r\n",
        "    for i in range(epochs):        \r\n",
        "        y_predicted = np.dot(w, X.T) + b\r\n",
        "\r\n",
        "        w_grad = -(2/total_samples)*(X.T.dot(y_true-y_predicted))\r\n",
        "        b_grad = -(2/total_samples)*np.sum(y_true-y_predicted)\r\n",
        "        \r\n",
        "        w = w - learning_rate * w_grad\r\n",
        "        b = b - learning_rate * b_grad\r\n",
        "        \r\n",
        "        cost = np.mean(np.square(y_true-y_predicted)) # MSE (Mean Squared Error)\r\n",
        "        \r\n",
        "        if i%10==0:\r\n",
        "            cost_list.append(cost)\r\n",
        "            epoch_list.append(i)\r\n",
        "        \r\n",
        "    return w, b, cost, cost_list, epoch_list\r\n",
        "\r\n",
        "w, b, cost, cost_list, epoch_list = batch_gradient_descent(scaled_X,scaled_y.reshape(scaled_y.shape[0],),500)\r\n"
      ],
      "execution_count": 54,
      "outputs": []
    },
    {
      "cell_type": "code",
      "metadata": {
        "colab": {
          "base_uri": "https://localhost:8080/"
        },
        "id": "KGktPWugFtbR",
        "outputId": "e5ddea1a-163f-4da6-dead-b72b5ef48af5"
      },
      "source": [
        "w, b, cost"
      ],
      "execution_count": 63,
      "outputs": [
        {
          "output_type": "execute_result",
          "data": {
            "text/plain": [
              "(array([ 0.01894399,  1.        ,  0.14968947,  0.38459264,  0.1778896 ,\n",
              "         1.        ,  1.        ,  0.29424759,  0.28740062,  1.05037929,\n",
              "         0.46410234,  1.        ,  1.        ,  1.        ,  0.15286377,\n",
              "         0.46153505,  0.35869449, -0.02869325, -0.01046175]),\n",
              " -0.7013018144130029,\n",
              " 0.030703602187131265)"
            ]
          },
          "metadata": {
            "tags": []
          },
          "execution_count": 63
        }
      ]
    },
    {
      "cell_type": "code",
      "metadata": {
        "colab": {
          "base_uri": "https://localhost:8080/",
          "height": 295
        },
        "id": "-PToxv7CF3Pq",
        "outputId": "5a06ee4f-66a2-474a-eb0a-a9a12385af43"
      },
      "source": [
        "plt.xlabel(\"epoch\")\r\n",
        "plt.ylabel(\"cost\")\r\n",
        "plt.plot(epoch_list,cost_list)"
      ],
      "execution_count": 64,
      "outputs": [
        {
          "output_type": "execute_result",
          "data": {
            "text/plain": [
              "[<matplotlib.lines.Line2D at 0x7fcfdad9e550>]"
            ]
          },
          "metadata": {
            "tags": []
          },
          "execution_count": 64
        },
        {
          "output_type": "display_data",
          "data": {
            "image/png": "[encoded data removed]",
            "text/plain": [
              "<Figure size 432x288 with 1 Axes>"
            ]
          },
          "metadata": {
            "tags": [],
            "needs_background": "light"
          }
        }
      ]
    },
    {
      "cell_type": "code",
      "metadata": {
        "id": "fPajardpGMdI"
      },
      "source": [
        "def predict(npastblocks,numsims,alpha,gamma,timewarp,numblocks,blocktime,winratio,adjustedwinning,selfishsecondsperblock,adjustedrelativegain,gainstddev,adjustedgainsteddev,secondsperblockstddev,finalheight,numreorgs,smwinreorgs,didbetternaive,didbettertimeadjust,w,b):\r\n",
        "    scaled_X = sx.transform([[npastblocks,numsims,alpha,gamma,timewarp,numblocks,blocktime,winratio,adjustedwinning,selfishsecondsperblock,adjustedrelativegain,gainstddev,adjustedgainsteddev,secondsperblockstddev,finalheight,numreorgs,smwinreorgs,didbetternaive,didbettertimeadjust]])[0]\r\n",
        "    # here w1 = w[0] , w2 = w[1], w3 = w[2] and bias is b\r\n",
        "    # equation for price is w1*area + w2*bedrooms + w3*age + bias\r\n",
        "    # scaled_X[0] is area\r\n",
        "    # scaled_X[1] is bedrooms\r\n",
        "    # scaled_X[2] is age\r\n",
        "    scaled_price = w[0] * scaled_X[0] + w[1] * scaled_X[1] + b\r\n",
        "    # once we get price prediction we need to to rescal it back to original value\r\n",
        "    # also since it returns 2D array, to get single value we need to do value[0][0]\r\n",
        "    return sy.inverse_transform([[scaled_price]])[0][0]"
      ],
      "execution_count": 68,
      "outputs": []
    },
    {
      "cell_type": "code",
      "metadata": {
        "colab": {
          "base_uri": "https://localhost:8080/"
        },
        "id": "C3c2FnBqHvQE",
        "outputId": "c3355819-0f93-4c5e-c2c7-1ed9c25f4c25"
      },
      "source": [
        "predict(24,30,0.06,0,0,10000,150,0.013401937,0.01274954,11896.76315,-0.787507666,0,0,0,11000.03333,536.3,0.05911187,0,0,w,b)"
      ],
      "execution_count": 69,
      "outputs": [
        {
          "output_type": "execute_result",
          "data": {
            "text/plain": [
              "-1.9794067748275297"
            ]
          },
          "metadata": {
            "tags": []
          },
          "execution_count": 69
        }
      ]
    },
    {
      "cell_type": "code",
      "metadata": {
        "colab": {
          "base_uri": "https://localhost:8080/"
        },
        "id": "wVQOFqc7Q4Zi",
        "outputId": "9be5e91b-3c45-46cf-8426-24bef16c0552"
      },
      "source": [
        "import random\r\n",
        "random.randint(0,6) # randit gives random number between two numbers specified in the argument"
      ],
      "execution_count": 70,
      "outputs": [
        {
          "output_type": "execute_result",
          "data": {
            "text/plain": [
              "6"
            ]
          },
          "metadata": {
            "tags": []
          },
          "execution_count": 70
        }
      ]
    },
    {
      "cell_type": "code",
      "metadata": {
        "colab": {
          "base_uri": "https://localhost:8080/"
        },
        "id": "NPgf08JHQ_Rt",
        "outputId": "3b473774-4dda-42ea-ef7e-98020e036d58"
      },
      "source": [
        "def stochastic_gradient_descent(X, y_true, epochs, learning_rate = 0.01):\r\n",
        " \r\n",
        "    number_of_features = X.shape[1]\r\n",
        "    # numpy array with 1 row and columns equal to number of features. In \r\n",
        "    # our case number_of_features = 3 (area, bedroom and age)\r\n",
        "    w = np.ones(shape=(number_of_features)) \r\n",
        "    b = 0\r\n",
        "    total_samples = X.shape[0]\r\n",
        "    \r\n",
        "    cost_list = []\r\n",
        "    epoch_list = []\r\n",
        "    \r\n",
        "    for i in range(epochs):    \r\n",
        "        random_index = random.randint(0,total_samples-1) # random index from total samples\r\n",
        "        sample_x = X[random_index]\r\n",
        "        sample_y = y_true[random_index]\r\n",
        "        \r\n",
        "        y_predicted = np.dot(w, sample_x.T) + b\r\n",
        "    \r\n",
        "        w_grad = -(2/total_samples)*(sample_x.T.dot(sample_y-y_predicted))\r\n",
        "        b_grad = -(2/total_samples)*(sample_y-y_predicted)\r\n",
        "        \r\n",
        "        w = w - learning_rate * w_grad\r\n",
        "        b = b - learning_rate * b_grad\r\n",
        "        \r\n",
        "        cost = np.square(sample_y-y_predicted)\r\n",
        "        \r\n",
        "        if i%100==0: # at every 100th iteration record the cost and epoch value\r\n",
        "            cost_list.append(cost)\r\n",
        "            epoch_list.append(i)\r\n",
        "        \r\n",
        "    return w, b, cost, cost_list, epoch_list\r\n",
        "\r\n",
        "w_sgd, b_sgd, cost_sgd, cost_list_sgd, epoch_list_sgd =stochastic_gradient_descent(scaled_X,scaled_y.reshape(scaled_y.shape[0],),10000)\r\n",
        "w_sgd, b_sgd, cost_sgd"
      ],
      "execution_count": 72,
      "outputs": [
        {
          "output_type": "execute_result",
          "data": {
            "text/plain": [
              "(array([0.97200213, 1.        , 0.925644  , 0.93262439, 0.9300434 ,\n",
              "        1.        , 1.        , 0.93923239, 0.93994549, 0.99557363,\n",
              "        0.93904833, 1.        , 1.        , 1.        , 0.97687799,\n",
              "        0.92407254, 0.93660731, 0.89156671, 0.89230224]),\n",
              " -0.12553496536683306,\n",
              " 27.81069185041651)"
            ]
          },
          "metadata": {
            "tags": []
          },
          "execution_count": 72
        }
      ]
    },
    {
      "cell_type": "code",
      "metadata": {
        "colab": {
          "base_uri": "https://localhost:8080/"
        },
        "id": "qATVpby5R5Q_",
        "outputId": "8412816a-bef1-49e5-ff5c-d168015b2919"
      },
      "source": [
        "w , b"
      ],
      "execution_count": 73,
      "outputs": [
        {
          "output_type": "execute_result",
          "data": {
            "text/plain": [
              "(array([ 0.01894399,  1.        ,  0.14968947,  0.38459264,  0.1778896 ,\n",
              "         1.        ,  1.        ,  0.29424759,  0.28740062,  1.05037929,\n",
              "         0.46410234,  1.        ,  1.        ,  1.        ,  0.15286377,\n",
              "         0.46153505,  0.35869449, -0.02869325, -0.01046175]),\n",
              " -0.7013018144130029)"
            ]
          },
          "metadata": {
            "tags": []
          },
          "execution_count": 73
        }
      ]
    },
    {
      "cell_type": "code",
      "metadata": {
        "colab": {
          "base_uri": "https://localhost:8080/",
          "height": 295
        },
        "id": "TYwJp-uqR-Kw",
        "outputId": "1e1b54bc-1d8a-4739-a6fe-f29c8da4ed7c"
      },
      "source": [
        "plt.xlabel(\"epoch\")\r\n",
        "plt.ylabel(\"cost\")\r\n",
        "plt.plot(epoch_list_sgd,cost_list_sgd)"
      ],
      "execution_count": 74,
      "outputs": [
        {
          "output_type": "execute_result",
          "data": {
            "text/plain": [
              "[<matplotlib.lines.Line2D at 0x7fcfdad13fd0>]"
            ]
          },
          "metadata": {
            "tags": []
          },
          "execution_count": 74
        },
        {
          "output_type": "display_data",
          "data": {
            "image/png": "[encoded data removed]",
            "text/plain": [
              "<Figure size 432x288 with 1 Axes>"
            ]
          },
          "metadata": {
            "tags": [],
            "needs_background": "light"
          }
        }
      ]
    },
    {
      "cell_type": "code",
      "metadata": {
        "colab": {
          "base_uri": "https://localhost:8080/"
        },
        "id": "wdnR1IBGSH37",
        "outputId": "adf84040-a4cb-4d7f-dcc7-e673f0c2fb56"
      },
      "source": [
        "predict(24,30,0.06,0,0,10000,150,0.013401937,0.01274954,11896.76315,-0.787507666,0,0,0,11000.03333,536.3,0.05911187,0,0,w_sgd, b_sgd)"
      ],
      "execution_count": 75,
      "outputs": [
        {
          "output_type": "execute_result",
          "data": {
            "text/plain": [
              "-0.9963587774532023"
            ]
          },
          "metadata": {
            "tags": []
          },
          "execution_count": 75
        }
      ]
    }
  ]
}